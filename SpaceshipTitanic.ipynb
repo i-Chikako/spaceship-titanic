{
 "cells": [
  {
   "cell_type": "code",
   "execution_count": 1,
   "id": "246b08da-7204-429c-93c5-809b22431372",
   "metadata": {},
   "outputs": [],
   "source": [
    "import pandas as pd\n",
    "import numpy as np\n",
    "from matplotlib import pyplot as plt\n",
    "%matplotlib inline\n",
    "from xgboost import XGBClassifier as XGB\n",
    "from sklearn.model_selection import GridSearchCV\n",
    "from sklearn.model_selection import cross_validate\n",
    "from lightgbm import LGBMClassifier\n",
    "from sklearn.decomposition import PCA\n",
    "from catboost import CatBoostClassifier\n",
    "from sklearn.ensemble import StackingClassifier\n",
    "from sklearn.linear_model import LogisticRegression"
   ]
  },
  {
   "cell_type": "code",
   "execution_count": 2,
   "id": "b84ced22-0308-4f79-94e0-03c2524b23ba",
   "metadata": {},
   "outputs": [],
   "source": [
    "train = pd.read_csv(\"train.csv\")\n",
    "test = pd.read_csv(\"test.csv\")\n",
    "sample = pd.read_csv(\"sample_submission.csv\")"
   ]
  },
  {
   "cell_type": "code",
   "execution_count": 3,
   "id": "51c5e6ae-9888-4f91-851f-a446711a2bc2",
   "metadata": {},
   "outputs": [
    {
     "data": {
      "text/html": [
       "<div>\n",
       "<style scoped>\n",
       "    .dataframe tbody tr th:only-of-type {\n",
       "        vertical-align: middle;\n",
       "    }\n",
       "\n",
       "    .dataframe tbody tr th {\n",
       "        vertical-align: top;\n",
       "    }\n",
       "\n",
       "    .dataframe thead th {\n",
       "        text-align: right;\n",
       "    }\n",
       "</style>\n",
       "<table border=\"1\" class=\"dataframe\">\n",
       "  <thead>\n",
       "    <tr style=\"text-align: right;\">\n",
       "      <th></th>\n",
       "      <th>PassengerId</th>\n",
       "      <th>HomePlanet</th>\n",
       "      <th>CryoSleep</th>\n",
       "      <th>Cabin</th>\n",
       "      <th>Destination</th>\n",
       "      <th>Age</th>\n",
       "      <th>VIP</th>\n",
       "      <th>RoomService</th>\n",
       "      <th>FoodCourt</th>\n",
       "      <th>ShoppingMall</th>\n",
       "      <th>Spa</th>\n",
       "      <th>VRDeck</th>\n",
       "      <th>Name</th>\n",
       "      <th>Transported</th>\n",
       "    </tr>\n",
       "  </thead>\n",
       "  <tbody>\n",
       "    <tr>\n",
       "      <th>0</th>\n",
       "      <td>0001_01</td>\n",
       "      <td>Europa</td>\n",
       "      <td>False</td>\n",
       "      <td>B/0/P</td>\n",
       "      <td>TRAPPIST-1e</td>\n",
       "      <td>39.0</td>\n",
       "      <td>False</td>\n",
       "      <td>0.0</td>\n",
       "      <td>0.0</td>\n",
       "      <td>0.0</td>\n",
       "      <td>0.0</td>\n",
       "      <td>0.0</td>\n",
       "      <td>Maham Ofracculy</td>\n",
       "      <td>False</td>\n",
       "    </tr>\n",
       "    <tr>\n",
       "      <th>1</th>\n",
       "      <td>0002_01</td>\n",
       "      <td>Earth</td>\n",
       "      <td>False</td>\n",
       "      <td>F/0/S</td>\n",
       "      <td>TRAPPIST-1e</td>\n",
       "      <td>24.0</td>\n",
       "      <td>False</td>\n",
       "      <td>109.0</td>\n",
       "      <td>9.0</td>\n",
       "      <td>25.0</td>\n",
       "      <td>549.0</td>\n",
       "      <td>44.0</td>\n",
       "      <td>Juanna Vines</td>\n",
       "      <td>True</td>\n",
       "    </tr>\n",
       "    <tr>\n",
       "      <th>2</th>\n",
       "      <td>0003_01</td>\n",
       "      <td>Europa</td>\n",
       "      <td>False</td>\n",
       "      <td>A/0/S</td>\n",
       "      <td>TRAPPIST-1e</td>\n",
       "      <td>58.0</td>\n",
       "      <td>True</td>\n",
       "      <td>43.0</td>\n",
       "      <td>3576.0</td>\n",
       "      <td>0.0</td>\n",
       "      <td>6715.0</td>\n",
       "      <td>49.0</td>\n",
       "      <td>Altark Susent</td>\n",
       "      <td>False</td>\n",
       "    </tr>\n",
       "    <tr>\n",
       "      <th>3</th>\n",
       "      <td>0003_02</td>\n",
       "      <td>Europa</td>\n",
       "      <td>False</td>\n",
       "      <td>A/0/S</td>\n",
       "      <td>TRAPPIST-1e</td>\n",
       "      <td>33.0</td>\n",
       "      <td>False</td>\n",
       "      <td>0.0</td>\n",
       "      <td>1283.0</td>\n",
       "      <td>371.0</td>\n",
       "      <td>3329.0</td>\n",
       "      <td>193.0</td>\n",
       "      <td>Solam Susent</td>\n",
       "      <td>False</td>\n",
       "    </tr>\n",
       "    <tr>\n",
       "      <th>4</th>\n",
       "      <td>0004_01</td>\n",
       "      <td>Earth</td>\n",
       "      <td>False</td>\n",
       "      <td>F/1/S</td>\n",
       "      <td>TRAPPIST-1e</td>\n",
       "      <td>16.0</td>\n",
       "      <td>False</td>\n",
       "      <td>303.0</td>\n",
       "      <td>70.0</td>\n",
       "      <td>151.0</td>\n",
       "      <td>565.0</td>\n",
       "      <td>2.0</td>\n",
       "      <td>Willy Santantines</td>\n",
       "      <td>True</td>\n",
       "    </tr>\n",
       "  </tbody>\n",
       "</table>\n",
       "</div>"
      ],
      "text/plain": [
       "  PassengerId HomePlanet CryoSleep  Cabin  Destination   Age    VIP  \\\n",
       "0     0001_01     Europa     False  B/0/P  TRAPPIST-1e  39.0  False   \n",
       "1     0002_01      Earth     False  F/0/S  TRAPPIST-1e  24.0  False   \n",
       "2     0003_01     Europa     False  A/0/S  TRAPPIST-1e  58.0   True   \n",
       "3     0003_02     Europa     False  A/0/S  TRAPPIST-1e  33.0  False   \n",
       "4     0004_01      Earth     False  F/1/S  TRAPPIST-1e  16.0  False   \n",
       "\n",
       "   RoomService  FoodCourt  ShoppingMall     Spa  VRDeck               Name  \\\n",
       "0          0.0        0.0           0.0     0.0     0.0    Maham Ofracculy   \n",
       "1        109.0        9.0          25.0   549.0    44.0       Juanna Vines   \n",
       "2         43.0     3576.0           0.0  6715.0    49.0      Altark Susent   \n",
       "3          0.0     1283.0         371.0  3329.0   193.0       Solam Susent   \n",
       "4        303.0       70.0         151.0   565.0     2.0  Willy Santantines   \n",
       "\n",
       "   Transported  \n",
       "0        False  \n",
       "1         True  \n",
       "2        False  \n",
       "3        False  \n",
       "4         True  "
      ]
     },
     "execution_count": 3,
     "metadata": {},
     "output_type": "execute_result"
    }
   ],
   "source": [
    "train.head()"
   ]
  },
  {
   "cell_type": "code",
   "execution_count": 4,
   "id": "5262b80b-9fc7-4a99-bc5d-9a82ffee7388",
   "metadata": {},
   "outputs": [],
   "source": [
    "#Cabinを分割且つ、欠損値補完\n",
    "train[\"deck\"] = train[\"Cabin\"].apply(lambda x :x.split(\"/\")[0] if isinstance(x, str) else \"unknown\")\n",
    "train[\"num\"] = train[\"Cabin\"].apply(lambda x :x.split(\"/\")[1] if isinstance(x, str) else \"unknown\")\n",
    "train[\"side\"] = train[\"Cabin\"].apply(lambda x :x.split(\"/\")[2] if isinstance(x, str) else \"unknown\")\n",
    "\n",
    "test[\"deck\"] = test[\"Cabin\"].apply(lambda x :x.split(\"/\")[0] if isinstance(x, str) else \"unknown\")\n",
    "test[\"num\"] = test[\"Cabin\"].apply(lambda x :x.split(\"/\")[1] if isinstance(x, str) else \"unknown\")\n",
    "test[\"side\"] = test[\"Cabin\"].apply(lambda x :x.split(\"/\")[2] if isinstance(x, str) else \"unknown\")"
   ]
  },
  {
   "cell_type": "code",
   "execution_count": 5,
   "id": "610851e2-ef0b-42c8-9793-bbf913a9eea4",
   "metadata": {},
   "outputs": [],
   "source": [
    "#Nameを姓と名に分割且つ、欠損値補完\n",
    "train[\"first\"] = train[\"Name\"].apply(lambda x :x.split(\" \")[0] if isinstance(x, str) else \"unknown\")\n",
    "train[\"last\"] = train[\"Name\"].apply(lambda x :x.split(\" \")[1] if isinstance(x, str) else \"unknown\")\n",
    "\n",
    "test[\"first\"] = test[\"Name\"].apply(lambda x :x.split(\" \")[0] if isinstance(x, str) else \"unknown\")\n",
    "test[\"last\"] = test[\"Name\"].apply(lambda x :x.split(\" \")[1] if isinstance(x, str) else \"unknown\")"
   ]
  },
  {
   "cell_type": "code",
   "execution_count": 6,
   "id": "1bf2ef4a-0d94-48be-91d0-91ee0abf5fc3",
   "metadata": {},
   "outputs": [],
   "source": [
    "#欠損値補完\n",
    "train[\"Destination\"] = train[\"Destination\"].fillna(\"missingPL\")\n",
    "test[\"Destination\"] = test[\"Destination\"].fillna(\"missingPL\")"
   ]
  },
  {
   "cell_type": "code",
   "execution_count": 7,
   "id": "925943fa-fa75-4b69-ad18-0e6a15abe10c",
   "metadata": {},
   "outputs": [
    {
     "data": {
      "text/plain": [
       "VIP\n",
       "False    8291\n",
       "True      199\n",
       "Name: count, dtype: int64"
      ]
     },
     "execution_count": 7,
     "metadata": {},
     "output_type": "execute_result"
    }
   ],
   "source": [
    "train[\"VIP\"].value_counts()"
   ]
  },
  {
   "cell_type": "code",
   "execution_count": 8,
   "id": "4c13b662-cd6d-4bad-9f3e-5765584f904a",
   "metadata": {},
   "outputs": [],
   "source": [
    "#Age欠損値を平均値で補完\n",
    "train[\"Age\"] = train[\"Age\"].fillna(train[\"Age\"].mean())\n",
    "test[\"Age\"] = test[\"Age\"].fillna(test[\"Age\"].mean())"
   ]
  },
  {
   "cell_type": "code",
   "execution_count": 9,
   "id": "20698022-0495-4599-860a-3f5d4ef120f7",
   "metadata": {},
   "outputs": [
    {
     "data": {
      "text/plain": [
       "VIP\n",
       "False    2829\n",
       "True      118\n",
       "Name: count, dtype: int64"
      ]
     },
     "execution_count": 9,
     "metadata": {},
     "output_type": "execute_result"
    }
   ],
   "source": [
    "train[train[\"VRDeck\"] >= 1][\"VIP\"].value_counts()"
   ]
  },
  {
   "cell_type": "code",
   "execution_count": 10,
   "id": "d338bc1f-1f76-4015-87db-751683920c5e",
   "metadata": {},
   "outputs": [],
   "source": [
    "#HomePlanet欠損値補完\n",
    "train[\"HomePlanet\"] = train[\"HomePlanet\"].fillna(\"missing\")\n",
    "test[\"HomePlanet\"] = test[\"HomePlanet\"].fillna(\"missing\")"
   ]
  },
  {
   "cell_type": "code",
   "execution_count": 11,
   "id": "70c1813a-1642-48cc-b8be-bffc93b71f0f",
   "metadata": {},
   "outputs": [
    {
     "data": {
      "text/plain": [
       "CryoSleep\n",
       "False    5439\n",
       "True     3037\n",
       "Name: count, dtype: int64"
      ]
     },
     "execution_count": 11,
     "metadata": {},
     "output_type": "execute_result"
    }
   ],
   "source": [
    "train[\"CryoSleep\"].value_counts()"
   ]
  },
  {
   "cell_type": "code",
   "execution_count": 12,
   "id": "55531342-70a4-44b6-bf99-350e746e22bf",
   "metadata": {},
   "outputs": [],
   "source": [
    "#欠損値補完\n",
    "train[\"CryoSleep\"] = train[\"CryoSleep\"].fillna(\"None\")\n",
    "test[\"CryoSleep\"] = test[\"CryoSleep\"].fillna(\"None\")\n",
    "train[\"VIP\"] = train[\"VIP\"].fillna(\"None\")\n",
    "test[\"VIP\"] = test[\"VIP\"].fillna(\"None\")\n",
    "\n",
    "train[\"RoomService\"] = train[\"RoomService\"].fillna(0)\n",
    "train[\"FoodCourt\"] = train[\"FoodCourt\"].fillna(0)\n",
    "train[\"ShoppingMall\"] = train[\"ShoppingMall\"].fillna(0)\n",
    "train[\"Spa\"] = train[\"Spa\"].fillna(0)\n",
    "train[\"VRDeck\"] = train[\"VRDeck\"].fillna(0)\n",
    "\n",
    "test[\"RoomService\"] = test[\"RoomService\"].fillna(0)\n",
    "test[\"FoodCourt\"] = test[\"FoodCourt\"].fillna(0)\n",
    "test[\"ShoppingMall\"] = test[\"ShoppingMall\"].fillna(0)\n",
    "test[\"Spa\"] = test[\"Spa\"].fillna(0)\n",
    "test[\"VRDeck\"] = test[\"VRDeck\"].fillna(0)"
   ]
  },
  {
   "cell_type": "code",
   "execution_count": 13,
   "id": "b91aed5c-968f-4d4d-806c-3a7a1794f0d8",
   "metadata": {},
   "outputs": [
    {
     "name": "stdout",
     "output_type": "stream",
     "text": [
      "<class 'pandas.core.frame.DataFrame'>\n",
      "RangeIndex: 8693 entries, 0 to 8692\n",
      "Data columns (total 19 columns):\n",
      " #   Column        Non-Null Count  Dtype  \n",
      "---  ------        --------------  -----  \n",
      " 0   PassengerId   8693 non-null   object \n",
      " 1   HomePlanet    8693 non-null   object \n",
      " 2   CryoSleep     8693 non-null   object \n",
      " 3   Cabin         8494 non-null   object \n",
      " 4   Destination   8693 non-null   object \n",
      " 5   Age           8693 non-null   float64\n",
      " 6   VIP           8693 non-null   object \n",
      " 7   RoomService   8693 non-null   float64\n",
      " 8   FoodCourt     8693 non-null   float64\n",
      " 9   ShoppingMall  8693 non-null   float64\n",
      " 10  Spa           8693 non-null   float64\n",
      " 11  VRDeck        8693 non-null   float64\n",
      " 12  Name          8493 non-null   object \n",
      " 13  Transported   8693 non-null   bool   \n",
      " 14  deck          8693 non-null   object \n",
      " 15  num           8693 non-null   object \n",
      " 16  side          8693 non-null   object \n",
      " 17  first         8693 non-null   object \n",
      " 18  last          8693 non-null   object \n",
      "dtypes: bool(1), float64(6), object(12)\n",
      "memory usage: 1.2+ MB\n"
     ]
    }
   ],
   "source": [
    "train.info()"
   ]
  },
  {
   "cell_type": "code",
   "execution_count": 14,
   "id": "2adf8fcd-922c-4a31-b94d-184a2f4a43f0",
   "metadata": {},
   "outputs": [],
   "source": [
    "#PassengerIdの乗客IDを取り出す\n",
    "train[\"PassengerId_gg\"] = train[\"PassengerId\"].apply(lambda x :x.split(\"_\")[0] if isinstance(x, str) else \"unknown\")\n",
    "\n",
    "# PassengerId_ggとlastの組み合わせで同じ人が何人いるか数える\n",
    "train[\"Family_num\"] = train.groupby([\"PassengerId_gg\", \"last\"])[\"PassengerId\"].transform(\"count\")\n",
    "\n",
    "# Family_num：2人以上なら1、1人だけなら0\n",
    "train[\"Family\"] = train[\"Family_num\"].apply(lambda x: 1 if x > 1 else 0)\n",
    "\n",
    "# Family_num削除\n",
    "train.drop(columns=[\"Family_num\"], inplace=True)\n",
    "\n",
    "#テストデータも同様に処理\n",
    "test[\"PassengerId_gg\"] = test[\"PassengerId\"].apply(lambda x :x.split(\"_\")[0] if isinstance(x, str) else \"unknown\")\n",
    "test[\"Family_num\"] = test.groupby([\"PassengerId_gg\", \"last\"])[\"PassengerId\"].transform(\"count\")\n",
    "test[\"Family\"] = test[\"Family_num\"].apply(lambda x: 1 if x > 1 else 0)\n",
    "test.drop(columns=[\"Family_num\"], inplace=True)"
   ]
  },
  {
   "cell_type": "code",
   "execution_count": 15,
   "id": "c7f368ce-5a1f-4fa9-8a40-717c0f580d33",
   "metadata": {},
   "outputs": [],
   "source": [
    "#特徴量をdrop、目的変数設定\n",
    "trainX = train.drop([\"Cabin\",\"Name\",\"PassengerId\",\"Transported\",\"PassengerId_gg\",\"first\",\"last\",],axis=1)\n",
    "y = train[\"Transported\"]\n",
    "testX = test.drop([\"Cabin\",\"Name\",\"PassengerId\",\"PassengerId_gg\",\"first\",\"last\",],axis=1)"
   ]
  },
  {
   "cell_type": "code",
   "execution_count": 16,
   "id": "a3e2942c-f1eb-4a34-899d-78d976cb07b2",
   "metadata": {},
   "outputs": [
    {
     "data": {
      "text/plain": [
       "num\n",
       "unknown    199\n",
       "82          28\n",
       "86          22\n",
       "19          22\n",
       "56          21\n",
       "          ... \n",
       "1644         1\n",
       "1515         1\n",
       "1639         1\n",
       "1277         1\n",
       "1894         1\n",
       "Name: count, Length: 1818, dtype: int64"
      ]
     },
     "execution_count": 16,
     "metadata": {},
     "output_type": "execute_result"
    }
   ],
   "source": [
    "trainX[\"num\"].value_counts()"
   ]
  },
  {
   "cell_type": "code",
   "execution_count": 17,
   "id": "aa27e3b6-029e-42ce-904d-5acdbfc90503",
   "metadata": {},
   "outputs": [],
   "source": [
    "#numカラム内補完した\"unknown\"を0に変換\n",
    "trainX[\"num\"] = trainX[\"num\"].replace(\"unknown\", 0).astype(int)\n",
    "testX[\"num\"] = testX[\"num\"].replace(\"unknown\", 0).astype(int)"
   ]
  },
  {
   "cell_type": "code",
   "execution_count": 18,
   "id": "c2cfc191-3475-447c-b324-73ecd301f9aa",
   "metadata": {},
   "outputs": [],
   "source": [
    "#trainX,testXをダミー変数化\n",
    "trainX = pd.get_dummies(trainX,dtype=int)\n",
    "testX = pd.get_dummies(testX,dtype=int)"
   ]
  },
  {
   "cell_type": "code",
   "execution_count": 19,
   "id": "0ebc4b26-41ca-4702-9cac-939488731c40",
   "metadata": {},
   "outputs": [
    {
     "name": "stdout",
     "output_type": "stream",
     "text": [
      "<class 'pandas.core.frame.DataFrame'>\n",
      "RangeIndex: 8693 entries, 0 to 8692\n",
      "Data columns (total 34 columns):\n",
      " #   Column                     Non-Null Count  Dtype  \n",
      "---  ------                     --------------  -----  \n",
      " 0   Age                        8693 non-null   float64\n",
      " 1   RoomService                8693 non-null   float64\n",
      " 2   FoodCourt                  8693 non-null   float64\n",
      " 3   ShoppingMall               8693 non-null   float64\n",
      " 4   Spa                        8693 non-null   float64\n",
      " 5   VRDeck                     8693 non-null   float64\n",
      " 6   num                        8693 non-null   int32  \n",
      " 7   Family                     8693 non-null   int64  \n",
      " 8   HomePlanet_Earth           8693 non-null   int32  \n",
      " 9   HomePlanet_Europa          8693 non-null   int32  \n",
      " 10  HomePlanet_Mars            8693 non-null   int32  \n",
      " 11  HomePlanet_missing         8693 non-null   int32  \n",
      " 12  CryoSleep_False            8693 non-null   int32  \n",
      " 13  CryoSleep_True             8693 non-null   int32  \n",
      " 14  CryoSleep_None             8693 non-null   int32  \n",
      " 15  Destination_55 Cancri e    8693 non-null   int32  \n",
      " 16  Destination_PSO J318.5-22  8693 non-null   int32  \n",
      " 17  Destination_TRAPPIST-1e    8693 non-null   int32  \n",
      " 18  Destination_missingPL      8693 non-null   int32  \n",
      " 19  VIP_False                  8693 non-null   int32  \n",
      " 20  VIP_True                   8693 non-null   int32  \n",
      " 21  VIP_None                   8693 non-null   int32  \n",
      " 22  deck_A                     8693 non-null   int32  \n",
      " 23  deck_B                     8693 non-null   int32  \n",
      " 24  deck_C                     8693 non-null   int32  \n",
      " 25  deck_D                     8693 non-null   int32  \n",
      " 26  deck_E                     8693 non-null   int32  \n",
      " 27  deck_F                     8693 non-null   int32  \n",
      " 28  deck_G                     8693 non-null   int32  \n",
      " 29  deck_T                     8693 non-null   int32  \n",
      " 30  deck_unknown               8693 non-null   int32  \n",
      " 31  side_P                     8693 non-null   int32  \n",
      " 32  side_S                     8693 non-null   int32  \n",
      " 33  side_unknown               8693 non-null   int32  \n",
      "dtypes: float64(6), int32(27), int64(1)\n",
      "memory usage: 1.4 MB\n"
     ]
    }
   ],
   "source": [
    "trainX.info()"
   ]
  },
  {
   "cell_type": "code",
   "execution_count": 20,
   "id": "ea4a04c6-5ed9-4b1c-b8a9-d4643efde991",
   "metadata": {},
   "outputs": [],
   "source": [
    "#必要のないカラムを削除\n",
    "trainX.drop([\"HomePlanet_missing\",\"CryoSleep_None\",\"Destination_missingPL\",\"VIP_None\",\"deck_unknown\",\"side_unknown\"],axis=1,inplace=True)\n",
    "testX.drop([\"HomePlanet_missing\",\"CryoSleep_None\",\"Destination_missingPL\",\"VIP_None\",\"deck_unknown\",\"side_unknown\"],axis=1,inplace=True)"
   ]
  },
  {
   "cell_type": "code",
   "execution_count": 21,
   "id": "406a9839-5d6c-44b5-89f2-d5f5f0cdeaf7",
   "metadata": {},
   "outputs": [],
   "source": [
    "#目的変数を数値化\n",
    "y = train[\"Transported\"].astype(int)"
   ]
  },
  {
   "cell_type": "code",
   "execution_count": 22,
   "id": "3a1fbdbe-4f72-4f0b-a231-5d03c5809ea1",
   "metadata": {},
   "outputs": [
    {
     "name": "stdout",
     "output_type": "stream",
     "text": [
      "<class 'pandas.core.frame.DataFrame'>\n",
      "RangeIndex: 8693 entries, 0 to 8692\n",
      "Data columns (total 28 columns):\n",
      " #   Column                     Non-Null Count  Dtype  \n",
      "---  ------                     --------------  -----  \n",
      " 0   Age                        8693 non-null   float64\n",
      " 1   RoomService                8693 non-null   float64\n",
      " 2   FoodCourt                  8693 non-null   float64\n",
      " 3   ShoppingMall               8693 non-null   float64\n",
      " 4   Spa                        8693 non-null   float64\n",
      " 5   VRDeck                     8693 non-null   float64\n",
      " 6   num                        8693 non-null   int32  \n",
      " 7   Family                     8693 non-null   int64  \n",
      " 8   HomePlanet_Earth           8693 non-null   int32  \n",
      " 9   HomePlanet_Europa          8693 non-null   int32  \n",
      " 10  HomePlanet_Mars            8693 non-null   int32  \n",
      " 11  CryoSleep_False            8693 non-null   int32  \n",
      " 12  CryoSleep_True             8693 non-null   int32  \n",
      " 13  Destination_55 Cancri e    8693 non-null   int32  \n",
      " 14  Destination_PSO J318.5-22  8693 non-null   int32  \n",
      " 15  Destination_TRAPPIST-1e    8693 non-null   int32  \n",
      " 16  VIP_False                  8693 non-null   int32  \n",
      " 17  VIP_True                   8693 non-null   int32  \n",
      " 18  deck_A                     8693 non-null   int32  \n",
      " 19  deck_B                     8693 non-null   int32  \n",
      " 20  deck_C                     8693 non-null   int32  \n",
      " 21  deck_D                     8693 non-null   int32  \n",
      " 22  deck_E                     8693 non-null   int32  \n",
      " 23  deck_F                     8693 non-null   int32  \n",
      " 24  deck_G                     8693 non-null   int32  \n",
      " 25  deck_T                     8693 non-null   int32  \n",
      " 26  side_P                     8693 non-null   int32  \n",
      " 27  side_S                     8693 non-null   int32  \n",
      "dtypes: float64(6), int32(21), int64(1)\n",
      "memory usage: 1.2 MB\n"
     ]
    }
   ],
   "source": [
    "trainX.info()"
   ]
  },
  {
   "cell_type": "code",
   "execution_count": 23,
   "id": "5f4f929c-2fcd-42cb-9049-e89c1d4b2f04",
   "metadata": {},
   "outputs": [],
   "source": [
    "#XGBモデル\n",
    "xgb = XGB(use_label_encoder=False, eval_metric=\"auc\", random_state=42)\n",
    "\n",
    "param_grid = {'max_depth': [3, 5],'learning_rate': [0.1, 0.3,0.5],'n_estimators': [50, 100,150]}\n",
    "\n",
    "gcv_xgb = GridSearchCV(xgb, param_grid,scoring='accuracy', cv=5, verbose=1, n_jobs=-1)"
   ]
  },
  {
   "cell_type": "raw",
   "id": "c76a9475-ffc6-46f6-a44b-0993961b2e07",
   "metadata": {},
   "source": [
    "gcv_xgb.fit(trainX,y)"
   ]
  },
  {
   "cell_type": "code",
   "execution_count": 25,
   "id": "c406abf5-e86d-4860-9015-f85addedad93",
   "metadata": {},
   "outputs": [],
   "source": [
    "pred_xgb = gcv_xgb.predict(testX)"
   ]
  },
  {
   "cell_type": "code",
   "execution_count": 26,
   "id": "f2c8d6f9-5b43-4a19-bb18-63e9b8a34ca5",
   "metadata": {},
   "outputs": [],
   "source": [
    "pred_xgb = pred_xgb.astype(bool)"
   ]
  },
  {
   "cell_type": "raw",
   "id": "9133fbb0-8618-42eb-9ca1-fb82f3aa6c9d",
   "metadata": {},
   "source": [
    "sample[\"Transported\"] = pred_xgb\n",
    "sample.to_csv(\"submission_xgb.csv\",index=None)"
   ]
  },
  {
   "cell_type": "code",
   "execution_count": 27,
   "id": "a9466782-a65c-4397-b5ea-a8bc99a391bf",
   "metadata": {},
   "outputs": [
    {
     "data": {
      "text/plain": [
       "Age                         -0.074249\n",
       "RoomService                 -0.241124\n",
       "FoodCourt                    0.045583\n",
       "ShoppingMall                 0.009391\n",
       "Spa                         -0.218545\n",
       "VRDeck                      -0.204874\n",
       "num                         -0.043832\n",
       "Family                       0.100146\n",
       "HomePlanet_Earth            -0.169019\n",
       "HomePlanet_Europa            0.176916\n",
       "HomePlanet_Mars              0.019544\n",
       "CryoSleep_False             -0.451744\n",
       "CryoSleep_True               0.460132\n",
       "Destination_55 Cancri e      0.108722\n",
       "Destination_PSO J318.5-22    0.000092\n",
       "Destination_TRAPPIST-1e     -0.094700\n",
       "VIP_False                    0.024602\n",
       "VIP_True                    -0.037261\n",
       "deck_A                      -0.002623\n",
       "deck_B                       0.144733\n",
       "deck_C                       0.108193\n",
       "deck_D                      -0.034046\n",
       "deck_E                      -0.097965\n",
       "deck_F                      -0.087753\n",
       "deck_G                       0.016269\n",
       "deck_T                      -0.014568\n",
       "side_P                      -0.101397\n",
       "side_S                       0.101455\n",
       "dtype: float64"
      ]
     },
     "execution_count": 27,
     "metadata": {},
     "output_type": "execute_result"
    }
   ],
   "source": [
    "trainX.corrwith(y)"
   ]
  },
  {
   "cell_type": "code",
   "execution_count": 28,
   "id": "da7aea5a-1c81-495f-ab25-cdb22640962f",
   "metadata": {},
   "outputs": [],
   "source": [
    "#LGBMモデル\n",
    "model_LG = LGBMClassifier(use_label_encoder=False, eval_metric=\"auc\", random_state=42)\n",
    "gcv_LG = GridSearchCV(model_LG, param_grid,scoring='accuracy', cv=5, verbose=1, n_jobs=-1)"
   ]
  },
  {
   "cell_type": "raw",
   "id": "c949389b-84b4-46a8-b455-769754fd9ed8",
   "metadata": {
    "scrolled": true
   },
   "source": [
    "gcv_LG.fit(trainX,y)"
   ]
  },
  {
   "cell_type": "code",
   "execution_count": null,
   "id": "d19ec384-5ec9-4110-ad0b-16eb0b51c3fa",
   "metadata": {},
   "outputs": [],
   "source": [
    "gcv_LG.best_params_"
   ]
  },
  {
   "cell_type": "code",
   "execution_count": null,
   "id": "290c232f-292c-4f71-833b-a02047aa57bd",
   "metadata": {},
   "outputs": [],
   "source": [
    "best_model = gcv_LG.best_estimator_"
   ]
  },
  {
   "cell_type": "code",
   "execution_count": null,
   "id": "8f68c2e5-2923-42b3-b371-bd8531f2879d",
   "metadata": {},
   "outputs": [],
   "source": [
    "pred_LG = best_model.predict(testX).astype(bool)"
   ]
  },
  {
   "cell_type": "raw",
   "id": "07c1baa6-d731-4da4-a5e3-a6a2702e1b36",
   "metadata": {},
   "source": [
    "sample[\"Transported\"] = pred_LG\n",
    "sample.to_csv(\"submission_LGBM.csv\",index=None)"
   ]
  },
  {
   "cell_type": "code",
   "execution_count": null,
   "id": "4783c8bd-52b3-4719-ba67-3867bdaf0ad8",
   "metadata": {},
   "outputs": [],
   "source": [
    "#CatBoostモデル\n",
    "model_cat = CatBoostClassifier(verbose=0)\n",
    "gcv_cat = GridSearchCV(model_cat, param_grid,scoring='accuracy', cv=5, verbose=1, n_jobs=-1)"
   ]
  },
  {
   "cell_type": "code",
   "execution_count": null,
   "id": "57381c7b-3920-454b-b5e2-c2b02a618a66",
   "metadata": {},
   "outputs": [],
   "source": [
    "gcv_cat.fit(trainX,y)"
   ]
  },
  {
   "cell_type": "code",
   "execution_count": null,
   "id": "1e434a48-ddeb-4b7f-91bf-fe46c37dcc33",
   "metadata": {},
   "outputs": [],
   "source": [
    "pred_cat = gcv_cat.predict(testX).astype(bool)"
   ]
  },
  {
   "cell_type": "raw",
   "id": "5bdacd3b-0e3d-48f6-9655-ccebe7f7fe63",
   "metadata": {},
   "source": [
    "sample[\"Transported\"] = pred_cat\n",
    "sample.to_csv(\"submission_cat.csv\",index=None)"
   ]
  },
  {
   "cell_type": "code",
   "execution_count": null,
   "id": "c18784c0-be42-4275-aa6d-870b75f9cd38",
   "metadata": {},
   "outputs": [],
   "source": [
    "#スタッキング（XGB,LGBM,Cat）再グリッドサーチあり\n",
    "estimators = [\n",
    "    ('xgb', gcv_xgb),\n",
    "    ('lgb', gcv_LG),\n",
    "    ('cat', gcv_cat)\n",
    "]\n",
    "\n",
    "stacked_model = StackingClassifier(\n",
    "    estimators=estimators,\n",
    "    final_estimator=LogisticRegression()\n",
    ")\n"
   ]
  },
  {
   "cell_type": "code",
   "execution_count": null,
   "id": "f719f353-5f00-4312-af53-a4718fbf3eda",
   "metadata": {
    "scrolled": true
   },
   "outputs": [],
   "source": [
    "stacked_model.fit(trainX,y)"
   ]
  },
  {
   "cell_type": "code",
   "execution_count": null,
   "id": "1faa42d2-0e6e-47a1-a41b-ef0b5351f15a",
   "metadata": {},
   "outputs": [],
   "source": [
    "pred_stacked = stacked_model.predict(testX).astype(bool)"
   ]
  },
  {
   "cell_type": "raw",
   "id": "385cdbd5-08a2-4119-9199-fafee2369256",
   "metadata": {},
   "source": [
    "sample[\"Transported\"] = pred_stacked\n",
    "sample.to_csv(\"submission_stacked.csv\",index=None)"
   ]
  },
  {
   "cell_type": "code",
   "execution_count": null,
   "id": "164ba6c9-eddd-4518-86b1-ebffbd64aa89",
   "metadata": {},
   "outputs": [],
   "source": [
    "#スタッキング（XGB,LGBM,Cat）ベストモデルのみ\n",
    "estimators_best = [\n",
    "    ('xgb', gcv_xgb.best_estimator_),\n",
    "    ('lgb', gcv_LG.best_estimator_),\n",
    "    ('cat', gcv_cat.best_estimator_)\n",
    "]\n",
    "\n",
    "stacked_model_best = StackingClassifier(\n",
    "    estimators=estimators_best,\n",
    "    final_estimator=LogisticRegression()\n",
    ")"
   ]
  },
  {
   "cell_type": "code",
   "execution_count": null,
   "id": "59f5233c-b330-4a12-872f-164b3a51dcb4",
   "metadata": {},
   "outputs": [],
   "source": [
    "stacked_model_best.fit(trainX,y)"
   ]
  },
  {
   "cell_type": "code",
   "execution_count": null,
   "id": "c330dbf3-3c39-475b-8fc5-c8cb8ba2fd77",
   "metadata": {},
   "outputs": [],
   "source": [
    "pred_stacked_best = stacked_model_best.predict(testX).astype(bool)"
   ]
  },
  {
   "cell_type": "raw",
   "id": "a96ed0f2-61b3-4162-af5d-99fc99a7e94a",
   "metadata": {},
   "source": [
    "sample[\"Transported\"] = pred_stacked_best\n",
    "sample.to_csv(\"submission_stacked_best.csv\",index=None)"
   ]
  },
  {
   "cell_type": "code",
   "execution_count": null,
   "id": "979de8b1-e542-4451-a641-51af60a9515b",
   "metadata": {},
   "outputs": [],
   "source": []
  }
 ],
 "metadata": {
  "kernelspec": {
   "display_name": "Python [conda env:base] *",
   "language": "python",
   "name": "conda-base-py"
  },
  "language_info": {
   "codemirror_mode": {
    "name": "ipython",
    "version": 3
   },
   "file_extension": ".py",
   "mimetype": "text/x-python",
   "name": "python",
   "nbconvert_exporter": "python",
   "pygments_lexer": "ipython3",
   "version": "3.12.3"
  }
 },
 "nbformat": 4,
 "nbformat_minor": 5
}
